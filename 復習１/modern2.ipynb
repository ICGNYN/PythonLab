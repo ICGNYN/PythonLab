{
 "metadata": {
  "language_info": {
   "codemirror_mode": {
    "name": "ipython",
    "version": 3
   },
   "file_extension": ".py",
   "mimetype": "text/x-python",
   "name": "python",
   "nbconvert_exporter": "python",
   "pygments_lexer": "ipython3",
   "version": "3.7.0"
  },
  "orig_nbformat": 2,
  "kernelspec": {
   "name": "python37064bit961d18c6f0f94ab9bbfc5a159048bd5a",
   "display_name": "Python 3.7.0 64-bit ('Miniconda': virtualenv)"
  },
  "metadata": {
   "interpreter": {
    "hash": "7492845e7218460757cd34cef2f288bd8241c2cbe56daf30fde700f1e8585348"
   }
  }
 },
 "nbformat": 4,
 "nbformat_minor": 2,
 "cells": [
  {
   "cell_type": "code",
   "execution_count": 2,
   "metadata": {},
   "outputs": [
    {
     "output_type": "stream",
     "name": "stdout",
     "text": [
      "1st\n2nd\n2nd\n2nd\n3rd\n2nd\n"
     ]
    }
   ],
   "source": [
    "def test(*args):\n",
    "    for arg in args:\n",
    "        print(arg)\n",
    "        print(args[1])\n",
    "\n",
    "test('1st', '2nd', '3rd')"
   ]
  },
  {
   "cell_type": "code",
   "execution_count": 6,
   "metadata": {},
   "outputs": [
    {
     "output_type": "stream",
     "name": "stdout",
     "text": [
      "key1\nkey2\nkey3\n"
     ]
    }
   ],
   "source": [
    "def test2(**kwargs):\n",
    "    for value in kwargs.values():\n",
    "        print(value)\n",
    "\n",
    "test2(k1=\"key1\", k2=\"key2\", k3=\"key3\")"
   ]
  },
  {
   "cell_type": "code",
   "execution_count": 7,
   "metadata": {},
   "outputs": [
    {
     "output_type": "stream",
     "name": "stdout",
     "text": [
      "15\n"
     ]
    }
   ],
   "source": [
    "def goukei(a: int, b: int):\n",
    "    print(a+b)\n",
    "\n",
    "goukei(5, 10)"
   ]
  },
  {
   "cell_type": "code",
   "execution_count": 8,
   "metadata": {},
   "outputs": [
    {
     "output_type": "stream",
     "name": "stdout",
     "text": [
      "40\n"
     ]
    }
   ],
   "source": [
    "goukei = lambda a,b : print(a+b)\n",
    "goukei(20, 20)"
   ]
  },
  {
   "cell_type": "code",
   "execution_count": 3,
   "metadata": {},
   "outputs": [
    {
     "output_type": "execute_result",
     "data": {
      "text/plain": [
       "'setsuna'"
      ]
     },
     "metadata": {},
     "execution_count": 3
    }
   ],
   "source": [
    "from dataclasses import dataclass\n",
    "\n",
    "@dataclass\n",
    "class Test:\n",
    "    name: str = \"yamada\"\n",
    "\n",
    "    def getName(self):\n",
    "        return self.name\n",
    "\n",
    "    def setName(self, name):\n",
    "        self.name = name\n",
    "\n",
    "    def delName(self):\n",
    "        del self.name\n",
    "\n",
    "obj = Test()\n",
    "obj.setName('setsuna')\n",
    "obj.getName()"
   ]
  },
  {
   "cell_type": "code",
   "execution_count": 7,
   "metadata": {},
   "outputs": [
    {
     "output_type": "execute_result",
     "data": {
      "text/plain": [
       "5"
      ]
     },
     "metadata": {},
     "execution_count": 7
    }
   ],
   "source": [
    "def add(x, y):\n",
    "    return x + y\n",
    "def sub(x, y):\n",
    "    return x - y\n",
    "def apply(func, x, y):\n",
    "    return func(x, y)\n",
    "\n",
    "apply(add, 2, 3)"
   ]
  },
  {
   "cell_type": "code",
   "execution_count": 9,
   "metadata": {},
   "outputs": [],
   "source": [
    "from dataclasses import dataclass\n",
    "\n",
    "@dataclass\n",
    "class Test:\n",
    "    name: str = \"kazusa\"\n",
    "\n",
    "    @property\n",
    "    def name(self):\n",
    "        return self._name\n",
    "\n",
    "    @name.setter\n",
    "    def name(self, name):\n",
    "        self._name = name\n",
    "\n",
    "obj = Test()"
   ]
  },
  {
   "cell_type": "code",
   "execution_count": 12,
   "metadata": {},
   "outputs": [
    {
     "output_type": "stream",
     "name": "stdout",
     "text": [
      "aa\n"
     ]
    }
   ],
   "source": [
    "n = 1\n",
    "if n < 0 :\n",
    "    print(\"hu\")\n",
    "else:\n",
    "    print(\"aa\")"
   ]
  },
  {
   "cell_type": "code",
   "execution_count": 14,
   "metadata": {},
   "outputs": [
    {
     "output_type": "execute_result",
     "data": {
      "text/plain": [
       "0"
      ]
     },
     "metadata": {},
     "execution_count": 14
    }
   ],
   "source": [
    "5 + (5, -5)[n > 0]"
   ]
  },
  {
   "cell_type": "code",
   "execution_count": 16,
   "metadata": {},
   "outputs": [],
   "source": [
    "def logger(func):\n",
    "    def inner(*args, **kwargs):\n",
    "        print (\"%s %s \" % (args, kwargs))\n",
    "        return func(*args, **kwargs)\n",
    "    return inner"
   ]
  },
  {
   "cell_type": "code",
   "execution_count": 22,
   "metadata": {},
   "outputs": [
    {
     "output_type": "stream",
     "name": "stdout",
     "text": [
      "(5,) {} \n() {} \n"
     ]
    },
    {
     "output_type": "execute_result",
     "data": {
      "text/plain": [
       "2"
      ]
     },
     "metadata": {},
     "execution_count": 22
    }
   ],
   "source": [
    "@logger\n",
    "def foo1(x, y=1):\n",
    "    return x * y\n",
    "\n",
    "@logger\n",
    "def foo2():\n",
    "    return 2\n",
    "\n",
    "foo1(5)\n",
    "foo2()"
   ]
  },
  {
   "cell_type": "code",
   "execution_count": null,
   "metadata": {},
   "outputs": [],
   "source": []
  }
 ]
}
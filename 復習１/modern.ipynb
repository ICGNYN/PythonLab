{
 "metadata": {
  "language_info": {
   "codemirror_mode": {
    "name": "ipython",
    "version": 3
   },
   "file_extension": ".py",
   "mimetype": "text/x-python",
   "name": "python",
   "nbconvert_exporter": "python",
   "pygments_lexer": "ipython3",
   "version": "3.7.0"
  },
  "orig_nbformat": 2,
  "kernelspec": {
   "name": "python37064bit961d18c6f0f94ab9bbfc5a159048bd5a",
   "display_name": "Python 3.7.0 64-bit ('Miniconda': virtualenv)"
  },
  "metadata": {
   "interpreter": {
    "hash": "7492845e7218460757cd34cef2f288bd8241c2cbe56daf30fde700f1e8585348"
   }
  }
 },
 "nbformat": 4,
 "nbformat_minor": 2,
 "cells": [
  {
   "source": [
    "print(\"Hello\")"
   ],
   "cell_type": "code",
   "metadata": {},
   "execution_count": 1,
   "outputs": [
    {
     "output_type": "stream",
     "name": "stdout",
     "text": [
      "Hello\n"
     ]
    }
   ]
  },
  {
   "cell_type": "code",
   "execution_count": 1,
   "metadata": {},
   "outputs": [],
   "source": [
    "def greeting(name: str) -> str:\n",
    "    return 'Hello ' + name"
   ]
  },
  {
   "cell_type": "code",
   "execution_count": 2,
   "metadata": {},
   "outputs": [
    {
     "output_type": "stream",
     "name": "stdout",
     "text": [
      "前\nクラス!\nメソッド!\n後\n"
     ]
    }
   ],
   "source": [
    "def loop2(before, *args, after):\n",
    "    print(before)\n",
    "    for arg in args:\n",
    "        print(arg + '!')\n",
    "    print(after)\n",
    "\n",
    "\n",
    "loop2('前', 'クラス', 'メソッド', after='後') "
   ]
  },
  {
   "cell_type": "code",
   "execution_count": 4,
   "metadata": {},
   "outputs": [
    {
     "output_type": "stream",
     "name": "stdout",
     "text": [
      "key:a / value:aaa\nkey:b / value:bbb\nkey:c / value:ccc\n"
     ]
    }
   ],
   "source": [
    "def fuga(**kwargs):\n",
    "    for key, value in kwargs.items():\n",
    "        print('key:' + key + ' / value:' + value)\n",
    "\n",
    "fuga(a='aaa', b='bbb', c='ccc')"
   ]
  },
  {
   "cell_type": "code",
   "execution_count": 5,
   "metadata": {},
   "outputs": [
    {
     "output_type": "stream",
     "name": "stdout",
     "text": [
      "--start--\nHello Deco\n--end--\n"
     ]
    }
   ],
   "source": [
    "def deco(func):\n",
    "    def wrapper(*args, **kwargs):\n",
    "        print(\"--start--\")\n",
    "        func(*args, **kwargs)\n",
    "        print(\"--end--\")\n",
    "    return wrapper\n",
    "\n",
    "@deco\n",
    "def test():\n",
    "    print(\"Hello Deco\")\n",
    "\n",
    "test()"
   ]
  },
  {
   "cell_type": "code",
   "execution_count": 6,
   "metadata": {},
   "outputs": [
    {
     "output_type": "stream",
     "name": "stdout",
     "text": [
      "--start--\nhhhhh\n--end--\n"
     ]
    }
   ],
   "source": [
    "def deco2(func):\n",
    "    import os\n",
    "    def wrapper(*args, **kwargs):\n",
    "        res = '--start--' + os.linesep\n",
    "        res += func(*args,**kwargs) + os.linesep\n",
    "        res += '--end--'\n",
    "        return res\n",
    "    return wrapper\n",
    "\n",
    "@deco2\n",
    "def test2():\n",
    "    return(\"hhhhh\")\n",
    "\n",
    "print(test2())"
   ]
  },
  {
   "cell_type": "code",
   "execution_count": 8,
   "metadata": {},
   "outputs": [],
   "source": [
    "from dataclasses import dataclass\n",
    "\n",
    "@dataclass\n",
    "class InvenoryItem:\n",
    "    name: str\n",
    "    unit_price: float\n",
    "    quantity_on_hand: int = 0\n",
    "\n",
    "    def total_cost(self) -> float:\n",
    "        return self.unit_price * self.quantity_on_hand"
   ]
  },
  {
   "cell_type": "code",
   "execution_count": 9,
   "metadata": {},
   "outputs": [],
   "source": [
    "def add(x:int, y:int) -> int:\n",
    "    \"\"\"add func\n",
    "\n",
    "    aaaaaa\"\"\"\n",
    "\n",
    "    return x + y"
   ]
  },
  {
   "cell_type": "code",
   "execution_count": 12,
   "metadata": {},
   "outputs": [
    {
     "output_type": "stream",
     "name": "stdout",
     "text": [
      "Address(row=2, col=4)\n"
     ]
    }
   ],
   "source": [
    "from typing import NamedTuple\n",
    "\n",
    "class Address(NamedTuple):\n",
    "    row: int\n",
    "    col: int\n",
    "\n",
    "class Range(NamedTuple):\n",
    "    start: Address\n",
    "    end: Address\n",
    "\n",
    "s = Address(2,4)\n",
    "e = Address(6,8)\n",
    "rng = Range(s,e)\n",
    "\n",
    "print(rng.start)"
   ]
  },
  {
   "cell_type": "code",
   "execution_count": 14,
   "metadata": {},
   "outputs": [
    {
     "output_type": "stream",
     "name": "stdout",
     "text": [
      "Hoge(hoge='hoge', fuga=444, piyo=False)\n"
     ]
    }
   ],
   "source": [
    "from dataclasses import dataclass\n",
    "\n",
    "@dataclass\n",
    "class Hoge:\n",
    "    hoge: str\n",
    "    fuga: int\n",
    "    piyo: bool\n",
    "\n",
    "hoge = Hoge(\"hoge\", 444, False)\n",
    "print(hoge)"
   ]
  },
  {
   "cell_type": "code",
   "execution_count": 17,
   "metadata": {},
   "outputs": [
    {
     "output_type": "stream",
     "name": "stdout",
     "text": [
      "[0, 1, 2, 3, 4]\n[0, 1, 2, 3, 4]\n['helo', 'helo', 'helo', 'helo', 'helo']\n"
     ]
    }
   ],
   "source": [
    "numbers = []\n",
    "for i in range(5):\n",
    "    numbers.append(i)\n",
    "\n",
    "print(numbers)\n",
    "\n",
    "numbers = [i for i in range(5)]\n",
    "print(numbers)\n",
    "\n",
    "numbers = [\"helo\" for i in range(5)]\n",
    "print(numbers)"
   ]
  },
  {
   "cell_type": "code",
   "execution_count": 18,
   "metadata": {},
   "outputs": [
    {
     "output_type": "stream",
     "name": "stdout",
     "text": [
      "[0, 2, 4]\n"
     ]
    }
   ],
   "source": [
    "numbers = [i for i in range(5) if i % 2 == 0]\n",
    "print(numbers)"
   ]
  },
  {
   "cell_type": "code",
   "execution_count": 19,
   "metadata": {},
   "outputs": [
    {
     "output_type": "stream",
     "name": "stdout",
     "text": [
      "{0: 0, 1: 1, 2: 4, 3: 9, 4: 16}\n{0: 0, 1: 1, 2: 4, 3: 9, 4: 16}\n"
     ]
    }
   ],
   "source": [
    "square = {}\n",
    "for i in range(5):\n",
    "    square[i] = i*i\n",
    "\n",
    "print(square)\n",
    "\n",
    "square = {i : i * i for i in range(5)}\n",
    "print(square)"
   ]
  },
  {
   "cell_type": "code",
   "execution_count": null,
   "metadata": {},
   "outputs": [],
   "source": []
  }
 ]
}
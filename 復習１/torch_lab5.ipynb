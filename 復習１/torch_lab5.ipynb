{
 "metadata": {
  "language_info": {
   "codemirror_mode": {
    "name": "ipython",
    "version": 3
   },
   "file_extension": ".py",
   "mimetype": "text/x-python",
   "name": "python",
   "nbconvert_exporter": "python",
   "pygments_lexer": "ipython3",
   "version": "3.7.0-final"
  },
  "orig_nbformat": 2,
  "kernelspec": {
   "name": "python37064bit961d18c6f0f94ab9bbfc5a159048bd5a",
   "display_name": "Python 3.7.0 64-bit",
   "language": "python"
  }
 },
 "nbformat": 4,
 "nbformat_minor": 2,
 "cells": [
  {
   "cell_type": "code",
   "execution_count": 27,
   "metadata": {},
   "outputs": [],
   "source": [
    "import torch\n",
    "from torch import nn\n",
    "from torch.utils.data import DataLoader\n",
    "from torchvision import datasets\n",
    "from torchvision.transforms import ToTensor, Lambda\n",
    "\n",
    "training_data = datasets.FashionMNIST(\n",
    "    root=\"data\",\n",
    "    train=True,\n",
    "    download=False,\n",
    "    transform=ToTensor()\n",
    ")\n",
    "\n",
    "test_data = datasets.FashionMNIST(\n",
    "    root=\"data\",\n",
    "    train=False,\n",
    "    download=False,\n",
    "    transform=ToTensor()\n",
    ")\n",
    "\n",
    "train_dataloader = DataLoader(training_data, batch_size=64)\n",
    "test_dataloader = DataLoader(test_data, batch_size=64)\n",
    "\n",
    "class NeuralNetwork(nn.Module):\n",
    "    def __init__(self):\n",
    "        super(NeuralNetwork, self).__init__()\n",
    "        self.flatten = nn.Flatten()\n",
    "        self.linear_relu_stack = nn.Sequential(\n",
    "            nn.Linear(28*28, 512),\n",
    "            nn.ReLU(),\n",
    "            nn.Linear(512, 512),\n",
    "            nn.ReLU(),\n",
    "            nn.Linear(512, 10),\n",
    "            nn.ReLU()\n",
    "        )\n",
    "\n",
    "    def forward(self, x):\n",
    "        x = self.flatten(x)\n",
    "        logits = self.linear_relu_stack(x)\n",
    "        return logits\n",
    "\n",
    "model = NeuralNetwork()"
   ]
  },
  {
   "cell_type": "code",
   "execution_count": 18,
   "metadata": {},
   "outputs": [],
   "source": [
    "learning_rate = 1e-3\n",
    "batch_size = 64\n",
    "epochs = 5"
   ]
  },
  {
   "cell_type": "code",
   "execution_count": 20,
   "metadata": {},
   "outputs": [],
   "source": [
    "loss_fn = nn.CrossEntropyLoss()"
   ]
  },
  {
   "cell_type": "code",
   "execution_count": 21,
   "metadata": {},
   "outputs": [],
   "source": [
    "optimizer = torch.optim.SGD(model.parameters(), lr=learning_rate)"
   ]
  },
  {
   "cell_type": "code",
   "execution_count": 22,
   "metadata": {},
   "outputs": [],
   "source": [
    "def train_loop(dataloader, model, loss_fn, optimizer):\n",
    "    size = len(dataloader.dataset)\n",
    "    for batch, (X, y) in enumerate(dataloader):        \n",
    "        # 予測と損失の計算\n",
    "        pred = model(X)\n",
    "        loss = loss_fn(pred, y)\n",
    "        \n",
    "        # バックプロパゲーション\n",
    "        optimizer.zero_grad()\n",
    "        loss.backward()\n",
    "        optimizer.step()\n",
    "\n",
    "        if batch % 100 == 0:\n",
    "            loss, current = loss.item(), batch * len(X)\n",
    "            print(f\"loss: {loss:>7f}  [{current:>5d}/{size:>5d}]\")\n",
    "\n",
    "\n",
    "def test_loop(dataloader, model, loss_fn):\n",
    "    size = len(dataloader.dataset)\n",
    "    test_loss, correct = 0, 0\n",
    "\n",
    "    with torch.no_grad():\n",
    "        for X, y in dataloader:\n",
    "            pred = model(X)\n",
    "            test_loss += loss_fn(pred, y).item()\n",
    "            correct += (pred.argmax(1) == y).type(torch.float).sum().item()\n",
    "            \n",
    "    test_loss /= size\n",
    "    correct /= size\n",
    "    print(f\"Test Error: \\n Accuracy: {(100*correct):>0.1f}%, Avg loss: {test_loss:>8f} \\n\")"
   ]
  },
  {
   "cell_type": "code",
   "execution_count": 23,
   "metadata": {},
   "outputs": [
    {
     "output_type": "stream",
     "name": "stdout",
     "text": [
      "Epoch 1\n",
      "-------------------------------\n",
      "loss: 2.302980  [    0/60000]\n",
      "loss: 2.297552  [ 6400/60000]\n",
      "loss: 2.293366  [12800/60000]\n",
      "loss: 2.290965  [19200/60000]\n",
      "loss: 2.296827  [25600/60000]\n",
      "loss: 2.279361  [32000/60000]\n",
      "loss: 2.274192  [38400/60000]\n",
      "loss: 2.269033  [44800/60000]\n",
      "loss: 2.256593  [51200/60000]\n",
      "loss: 2.263503  [57600/60000]\n",
      "Test Error: \n",
      " Accuracy: 31.9%, Avg loss: 0.035582 \n",
      "\n",
      "Epoch 2\n",
      "-------------------------------\n",
      "loss: 2.246124  [    0/60000]\n",
      "loss: 2.263427  [ 6400/60000]\n",
      "loss: 2.245786  [12800/60000]\n",
      "loss: 2.257674  [19200/60000]\n",
      "loss: 2.275934  [25600/60000]\n",
      "loss: 2.232781  [32000/60000]\n",
      "loss: 2.224876  [38400/60000]\n",
      "loss: 2.214975  [44800/60000]\n",
      "loss: 2.194067  [51200/60000]\n",
      "loss: 2.211834  [57600/60000]\n",
      "Test Error: \n",
      " Accuracy: 31.2%, Avg loss: 0.034887 \n",
      "\n",
      "Epoch 3\n",
      "-------------------------------\n",
      "loss: 2.179569  [    0/60000]\n",
      "loss: 2.220195  [ 6400/60000]\n",
      "loss: 2.187092  [12800/60000]\n",
      "loss: 2.211974  [19200/60000]\n",
      "loss: 2.247899  [25600/60000]\n",
      "loss: 2.171403  [32000/60000]\n",
      "loss: 2.156005  [38400/60000]\n",
      "loss: 2.142548  [44800/60000]\n",
      "loss: 2.109634  [51200/60000]\n",
      "loss: 2.139068  [57600/60000]\n",
      "Test Error: \n",
      " Accuracy: 30.9%, Avg loss: 0.033972 \n",
      "\n",
      "Epoch 4\n",
      "-------------------------------\n",
      "loss: 2.092213  [    0/60000]\n",
      "loss: 2.163763  [ 6400/60000]\n",
      "loss: 2.113596  [12800/60000]\n",
      "loss: 2.152586  [19200/60000]\n",
      "loss: 2.213721  [25600/60000]\n",
      "loss: 2.097392  [32000/60000]\n",
      "loss: 2.069671  [38400/60000]\n",
      "loss: 2.059407  [44800/60000]\n",
      "loss: 2.017987  [51200/60000]\n",
      "loss: 2.055712  [57600/60000]\n",
      "Test Error: \n",
      " Accuracy: 31.3%, Avg loss: 0.032983 \n",
      "\n",
      "Epoch 5\n",
      "-------------------------------\n",
      "loss: 1.997923  [    0/60000]\n",
      "loss: 2.102982  [ 6400/60000]\n",
      "loss: 2.039599  [12800/60000]\n",
      "loss: 2.091685  [19200/60000]\n",
      "loss: 2.176619  [25600/60000]\n",
      "loss: 2.027600  [32000/60000]\n",
      "loss: 1.989388  [38400/60000]\n",
      "loss: 1.982918  [44800/60000]\n",
      "loss: 1.944052  [51200/60000]\n",
      "loss: 1.971477  [57600/60000]\n",
      "Test Error: \n",
      " Accuracy: 32.5%, Avg loss: 0.031898 \n",
      "\n",
      "Epoch 6\n",
      "-------------------------------\n",
      "loss: 1.905236  [    0/60000]\n",
      "loss: 2.021123  [ 6400/60000]\n",
      "loss: 1.945868  [12800/60000]\n",
      "loss: 2.024281  [19200/60000]\n",
      "loss: 2.076368  [25600/60000]\n",
      "loss: 1.903515  [32000/60000]\n",
      "loss: 1.871409  [38400/60000]\n",
      "loss: 1.847622  [44800/60000]\n",
      "loss: 1.863998  [51200/60000]\n",
      "loss: 1.862369  [57600/60000]\n",
      "Test Error: \n",
      " Accuracy: 38.8%, Avg loss: 0.030367 \n",
      "\n",
      "Epoch 7\n",
      "-------------------------------\n",
      "loss: 1.792946  [    0/60000]\n",
      "loss: 1.911515  [ 6400/60000]\n",
      "loss: 1.828728  [12800/60000]\n",
      "loss: 1.952596  [19200/60000]\n",
      "loss: 1.938011  [25600/60000]\n",
      "loss: 1.772160  [32000/60000]\n",
      "loss: 1.764819  [38400/60000]\n",
      "loss: 1.724436  [44800/60000]\n",
      "loss: 1.794659  [51200/60000]\n",
      "loss: 1.772440  [57600/60000]\n",
      "Test Error: \n",
      " Accuracy: 38.7%, Avg loss: 0.029005 \n",
      "\n",
      "Epoch 8\n",
      "-------------------------------\n",
      "loss: 1.695446  [    0/60000]\n",
      "loss: 1.819602  [ 6400/60000]\n",
      "loss: 1.734738  [12800/60000]\n",
      "loss: 1.891776  [19200/60000]\n",
      "loss: 1.820212  [25600/60000]\n",
      "loss: 1.677982  [32000/60000]\n",
      "loss: 1.687686  [38400/60000]\n",
      "loss: 1.640509  [44800/60000]\n",
      "loss: 1.739708  [51200/60000]\n",
      "loss: 1.709762  [57600/60000]\n",
      "Test Error: \n",
      " Accuracy: 39.0%, Avg loss: 0.027735 \n",
      "\n",
      "Epoch 9\n",
      "-------------------------------\n",
      "loss: 1.627440  [    0/60000]\n",
      "loss: 1.726748  [ 6400/60000]\n",
      "loss: 1.631987  [12800/60000]\n",
      "loss: 1.776296  [19200/60000]\n",
      "loss: 1.695109  [25600/60000]\n",
      "loss: 1.607769  [32000/60000]\n",
      "loss: 1.590582  [38400/60000]\n",
      "loss: 1.559169  [44800/60000]\n",
      "loss: 1.672883  [51200/60000]\n",
      "loss: 1.642865  [57600/60000]\n",
      "Test Error: \n",
      " Accuracy: 44.1%, Avg loss: 0.026135 \n",
      "\n",
      "Epoch 10\n",
      "-------------------------------\n",
      "loss: 1.566417  [    0/60000]\n",
      "loss: 1.622707  [ 6400/60000]\n",
      "loss: 1.522755  [12800/60000]\n",
      "loss: 1.670853  [19200/60000]\n",
      "loss: 1.599226  [25600/60000]\n",
      "loss: 1.542072  [32000/60000]\n",
      "loss: 1.517092  [38400/60000]\n",
      "loss: 1.491051  [44800/60000]\n",
      "loss: 1.604911  [51200/60000]\n",
      "loss: 1.587205  [57600/60000]\n",
      "Test Error: \n",
      " Accuracy: 47.4%, Avg loss: 0.024949 \n",
      "\n",
      "Done!\n"
     ]
    }
   ],
   "source": [
    "loss_fn = nn.CrossEntropyLoss()\n",
    "optimizer = torch.optim.SGD(model.parameters(), lr=learning_rate)\n",
    "\n",
    "epochs = 10\n",
    "for t in range(epochs):\n",
    "    print(f\"Epoch {t+1}\\n-------------------------------\")\n",
    "    train_loop(train_dataloader, model, loss_fn, optimizer)\n",
    "    test_loop(test_dataloader, model, loss_fn)\n",
    "print(\"Done!\")"
   ]
  },
  {
   "cell_type": "code",
   "execution_count": 42,
   "metadata": {},
   "outputs": [
    {
     "output_type": "execute_result",
     "data": {
      "text/plain": [
       "10000"
      ]
     },
     "metadata": {},
     "execution_count": 42
    }
   ],
   "source": [
    "len(test_dataloader.dataset)"
   ]
  },
  {
   "cell_type": "code",
   "execution_count": 43,
   "metadata": {},
   "outputs": [],
   "source": [
    "import torch\n",
    "import torch.onnx as onnx\n",
    "import torchvision.models as models"
   ]
  },
  {
   "cell_type": "code",
   "execution_count": 44,
   "metadata": {},
   "outputs": [
    {
     "output_type": "stream",
     "name": "stderr",
     "text": [
      "Downloading: \"https://download.pytorch.org/models/vgg16-397923af.pth\" to C:\\Users\\pc/.cache\\torch\\hub\\checkpoints\\vgg16-397923af.pth\n",
      "100.0%\n"
     ]
    }
   ],
   "source": [
    "model = models.vgg16(pretrained=True)\n",
    "torch.save(model.state_dict(), \"model_weights.pth\")"
   ]
  },
  {
   "cell_type": "code",
   "execution_count": 45,
   "metadata": {},
   "outputs": [
    {
     "output_type": "execute_result",
     "data": {
      "text/plain": [
       "VGG(\n",
       "  (features): Sequential(\n",
       "    (0): Conv2d(3, 64, kernel_size=(3, 3), stride=(1, 1), padding=(1, 1))\n",
       "    (1): ReLU(inplace=True)\n",
       "    (2): Conv2d(64, 64, kernel_size=(3, 3), stride=(1, 1), padding=(1, 1))\n",
       "    (3): ReLU(inplace=True)\n",
       "    (4): MaxPool2d(kernel_size=2, stride=2, padding=0, dilation=1, ceil_mode=False)\n",
       "    (5): Conv2d(64, 128, kernel_size=(3, 3), stride=(1, 1), padding=(1, 1))\n",
       "    (6): ReLU(inplace=True)\n",
       "    (7): Conv2d(128, 128, kernel_size=(3, 3), stride=(1, 1), padding=(1, 1))\n",
       "    (8): ReLU(inplace=True)\n",
       "    (9): MaxPool2d(kernel_size=2, stride=2, padding=0, dilation=1, ceil_mode=False)\n",
       "    (10): Conv2d(128, 256, kernel_size=(3, 3), stride=(1, 1), padding=(1, 1))\n",
       "    (11): ReLU(inplace=True)\n",
       "    (12): Conv2d(256, 256, kernel_size=(3, 3), stride=(1, 1), padding=(1, 1))\n",
       "    (13): ReLU(inplace=True)\n",
       "    (14): Conv2d(256, 256, kernel_size=(3, 3), stride=(1, 1), padding=(1, 1))\n",
       "    (15): ReLU(inplace=True)\n",
       "    (16): MaxPool2d(kernel_size=2, stride=2, padding=0, dilation=1, ceil_mode=False)\n",
       "    (17): Conv2d(256, 512, kernel_size=(3, 3), stride=(1, 1), padding=(1, 1))\n",
       "    (18): ReLU(inplace=True)\n",
       "    (19): Conv2d(512, 512, kernel_size=(3, 3), stride=(1, 1), padding=(1, 1))\n",
       "    (20): ReLU(inplace=True)\n",
       "    (21): Conv2d(512, 512, kernel_size=(3, 3), stride=(1, 1), padding=(1, 1))\n",
       "    (22): ReLU(inplace=True)\n",
       "    (23): MaxPool2d(kernel_size=2, stride=2, padding=0, dilation=1, ceil_mode=False)\n",
       "    (24): Conv2d(512, 512, kernel_size=(3, 3), stride=(1, 1), padding=(1, 1))\n",
       "    (25): ReLU(inplace=True)\n",
       "    (26): Conv2d(512, 512, kernel_size=(3, 3), stride=(1, 1), padding=(1, 1))\n",
       "    (27): ReLU(inplace=True)\n",
       "    (28): Conv2d(512, 512, kernel_size=(3, 3), stride=(1, 1), padding=(1, 1))\n",
       "    (29): ReLU(inplace=True)\n",
       "    (30): MaxPool2d(kernel_size=2, stride=2, padding=0, dilation=1, ceil_mode=False)\n",
       "  )\n",
       "  (avgpool): AdaptiveAvgPool2d(output_size=(7, 7))\n",
       "  (classifier): Sequential(\n",
       "    (0): Linear(in_features=25088, out_features=4096, bias=True)\n",
       "    (1): ReLU(inplace=True)\n",
       "    (2): Dropout(p=0.5, inplace=False)\n",
       "    (3): Linear(in_features=4096, out_features=4096, bias=True)\n",
       "    (4): ReLU(inplace=True)\n",
       "    (5): Dropout(p=0.5, inplace=False)\n",
       "    (6): Linear(in_features=4096, out_features=1000, bias=True)\n",
       "  )\n",
       ")"
      ]
     },
     "metadata": {},
     "execution_count": 45
    }
   ],
   "source": [
    "model = models.vgg16()\n",
    "model.load_state_dict(torch.load('model_weights.pth'))\n",
    "model.eval()"
   ]
  },
  {
   "cell_type": "code",
   "execution_count": 46,
   "metadata": {},
   "outputs": [],
   "source": [
    "torch.save(model, 'model.pth')"
   ]
  },
  {
   "cell_type": "code",
   "execution_count": 47,
   "metadata": {},
   "outputs": [],
   "source": [
    "model = torch.load('model.pth')"
   ]
  },
  {
   "cell_type": "code",
   "execution_count": null,
   "metadata": {},
   "outputs": [],
   "source": []
  }
 ]
}